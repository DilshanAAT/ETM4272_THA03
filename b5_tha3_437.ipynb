{
 "cells": [
  {
   "cell_type": "markdown",
   "metadata": {},
   "source": [
    "Take Home Assignment 3"
   ]
  },
  {
   "cell_type": "code",
   "execution_count": null,
   "metadata": {},
   "outputs": [],
   "source": [
    "from ultralytics import YOLO\n",
    "import cv2\n",
    "from matplotlib import pyplot as plt\n",
    "import numpy as np\n",
    "from PIL import Image\n",
    "import time\n",
    "import supervision as sv"
   ]
  },
  {
   "cell_type": "markdown",
   "metadata": {},
   "source": [
    "3.1.1 Draw the segmentation mask of the largest car: Use ultralytics library only"
   ]
  },
  {
   "cell_type": "code",
   "execution_count": null,
   "metadata": {},
   "outputs": [],
   "source": [
    "img = cv2.imread(\"cars1.jpg\")"
   ]
  },
  {
   "cell_type": "code",
   "execution_count": null,
   "metadata": {},
   "outputs": [],
   "source": [
    "# Load YOLOv8 segmentation model\n",
    "model = YOLO(\"yolov8m-seg.pt\")\n",
    "\n",
    "# Load the image\n",
    "img_rgb = cv2.cvtColor(img, cv2.COLOR_BGR2RGB)  # Convert BGR to RGB\n",
    "original_height, original_width = img.shape[:2]  # Get original dimensions (height, width)\n",
    "\n",
    "# Run a segmentation model on the image\n",
    "results = model(img_rgb)\n",
    "\n",
    "# Initialize variables for the largest detected box\n",
    "largest_area = 0\n",
    "largest_index = -1\n",
    "\n",
    "# Iterate through the boxes in the results object\n",
    "for i, box in enumerate(results[0].boxes.xyxy):\n",
    "    # Obtain the coordinates of the box\n",
    "    x_min, y_min, x_max, y_max = box.tolist()\n",
    "    box_area = (x_max - x_min) * (y_max - y_min)  # Calculate area\n",
    "\n",
    "    # Find out the index of the box with the largest area\n",
    "    if box_area > largest_area:\n",
    "        largest_area = box_area\n",
    "        largest_index = i\n",
    "\n",
    "# Draw the mask of the box with the largest area\n",
    "if largest_index != -1:\n",
    "    mask = results[0].masks.data[largest_index].cpu().numpy()  # Get mask\n",
    "    mask_resized = cv2.resize(mask, (original_width, original_height), interpolation=cv2.INTER_NEAREST)  # Resize mask\n",
    "    binary_mask = (mask_resized > 0.5).astype(np.uint8)  # Convert to binary\n",
    "\n",
    "    # Apply the mask overlay\n",
    "    img_rgb[binary_mask == 1] = img_rgb[binary_mask == 1] * 0.6 + np.array([255, 0, 0]) * 0.4   # Red color for the mask\n",
    "\n",
    "# Display the result\n",
    "plt.figure(figsize=(10, 6))\n",
    "plt.imshow(img_rgb)\n",
    "plt.axis(\"off\")\n",
    "plt.title(\"Largest Car Segmentation Highlighted\")\n",
    "plt.show()"
   ]
  },
  {
   "cell_type": "markdown",
   "metadata": {},
   "source": [
    "3.1.2 Draw the segmentation mask of the largest car : Use ultralytics + supervision libraries"
   ]
  },
  {
   "cell_type": "code",
   "execution_count": null,
   "metadata": {},
   "outputs": [],
   "source": [
    "# Load YOLOv8 segmentation model\n",
    "model = YOLO(\"yolov8m-seg.pt\")  \n",
    "\n",
    "# Run a segmentation model on the image using ultralytics libraries & a model of your choice\n",
    "image_rgb = cv2.cvtColor(image, cv2.COLOR_BGR2RGB)  # Convert BGR to RGB for correct visualization\n",
    "results = model(image_rgb)  # Run YOLOv8 segmentation\n",
    "\n",
    "# Transfer ultralytics results to supervision\n",
    "detections = sv.Detections.from_ultralytics(results[0])  # Convert YOLO results to Supervision format\n",
    "\n",
    "# Iterate through the masks & find the largest\n",
    "largest_area = 0\n",
    "largest_mask = None\n",
    "\n",
    "for i, mask in enumerate(detections.mask):\n",
    "    # Convert mask to NumPy array\n",
    "    mask_np = mask.astype(np.uint8)\n",
    "\n",
    "    # Calculate the area of the mask\n",
    "    area = np.sum(mask_np)  # Count the number of pixels in the mask\n",
    "\n",
    "    # Find the largest mask\n",
    "    if area > largest_area:\n",
    "        largest_area = area\n",
    "        largest_mask = mask_np  # Store the largest detected mask\n",
    "\n",
    "# Display the largest mask\n",
    "if largest_mask is not None:\n",
    "    # Overlay the largest mask on the image\n",
    "    mask_overlay = np.zeros_like(image_rgb)\n",
    "    mask_overlay[largest_mask == 1] = [255, 0, 0]  # Apply red color to the mask\n",
    "\n",
    "    # Blend the mask with the original image\n",
    "    image_rgb = cv2.addWeighted(image_rgb, 1, mask_overlay, 0.6, 0)\n",
    "\n",
    "# Show the image\n",
    "plt.figure(figsize=(10, 6))\n",
    "plt.imshow(image_rgb)\n",
    "plt.axis(\"off\")\n",
    "plt.title(\"Largest Car Segmentation Mask Highlighted\")\n",
    "plt.show()"
   ]
  },
  {
   "cell_type": "markdown",
   "metadata": {},
   "source": [
    "3.2 Estimate distance to centroid of chair "
   ]
  },
  {
   "cell_type": "code",
   "execution_count": null,
   "metadata": {},
   "outputs": [],
   "source": [
    "# Detect the chair in the image  - A detection model of your choice can be used\n",
    "\n",
    "# Calculate the centroid of the chair - Access box coordinates from the detection model and calculate the centroid\n",
    "\n",
    "# Obtain the depth map - Depth Anything V2 can be used \n",
    "\n",
    "# Query the value of the depth map at the centroid's location"
   ]
  },
  {
   "cell_type": "markdown",
   "metadata": {},
   "source": [
    "3.3.1  Draw bounding boxes around the \"cars\" using supervision. "
   ]
  },
  {
   "cell_type": "code",
   "execution_count": null,
   "metadata": {},
   "outputs": [
    {
     "name": "stderr",
     "output_type": "stream",
     "text": [
      "Downloading...\n",
      "From: https://drive.google.com/uc?id=1zcKvnDDEdyFF4B0B3eYud6DHU19nl0o4\n",
      "To: d:\\01_FOT_USJP_TeachingMaterial\\06_MachineVisionSystems\\02_LectureDemonstrations_2024\\B5-Repo\\ETM4272\\video.mp4\n",
      "100%|██████████| 35.3M/35.3M [04:34<00:00, 129kB/s]\n"
     ]
    },
    {
     "data": {
      "text/plain": [
       "'video.mp4'"
      ]
     },
     "execution_count": 5,
     "metadata": {},
     "output_type": "execute_result"
    }
   ],
   "source": [
    "# Downloads the video file from the google drive link, you'll have to \"pip install gdown\" first\n",
    "import gdown\n",
    "\n",
    "file_id = \"1zcKvnDDEdyFF4B0B3eYud6DHU19nl0o4\"\n",
    "direct_url = f\"https://drive.google.com/uc?id={file_id}\"\n",
    "\n",
    "gdown.download(direct_url, \"vehicles_video.mp4\", quiet=False)"
   ]
  },
  {
   "cell_type": "code",
   "execution_count": null,
   "metadata": {},
   "outputs": [],
   "source": [
    "model = YOLO(\"yolo11n.pt\")\n",
    "\n",
    "\n",
    "def callback(frame: np.ndarray, _: int) -> np.ndarray:\n",
    "    # Complete this function\n",
    "\n",
    "sv.process_video(\n",
    "    source_path=\"vehicles_video.mp4\",\n",
    "    target_path=\"result_tracking.mp4\",\n",
    "    callback=callback\n",
    ")"
   ]
  },
  {
   "cell_type": "markdown",
   "metadata": {},
   "source": [
    "3.3.1 Track the cars. Add the tracker id to the bounding boxes around the cars. Use supervision"
   ]
  },
  {
   "cell_type": "code",
   "execution_count": null,
   "metadata": {},
   "outputs": [],
   "source": []
  },
  {
   "cell_type": "markdown",
   "metadata": {},
   "source": [
    "3.3.2 Draw the track traces for the tracked cars. Use supervision"
   ]
  },
  {
   "cell_type": "code",
   "execution_count": null,
   "metadata": {},
   "outputs": [],
   "source": []
  },
  {
   "cell_type": "markdown",
   "metadata": {},
   "source": [
    "Questions:\n",
    "\n",
    "Explain what \"def callback(frame: np.ndarray, _: int) -> np.ndarray:\" does. "
   ]
  },
  {
   "cell_type": "markdown",
   "metadata": {},
   "source": [
    "Answers: Complete this section"
   ]
  }
 ],
 "metadata": {
  "kernelspec": {
   "display_name": "Python 3",
   "language": "python",
   "name": "python3"
  },
  "language_info": {
   "codemirror_mode": {
    "name": "ipython",
    "version": 3
   },
   "file_extension": ".py",
   "mimetype": "text/x-python",
   "name": "python",
   "nbconvert_exporter": "python",
   "pygments_lexer": "ipython3",
   "version": "3.11.7"
  }
 },
 "nbformat": 4,
 "nbformat_minor": 2
}
